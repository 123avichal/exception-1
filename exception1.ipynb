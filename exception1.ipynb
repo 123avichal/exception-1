{
 "cells": [
  {
   "cell_type": "code",
   "execution_count": null,
   "id": "d1abee4f-027d-4911-8534-dad6106215f6",
   "metadata": {},
   "outputs": [],
   "source": []
  },
  {
   "cell_type": "markdown",
   "id": "0cc1106b-7353-46b4-92cb-9e7728a55619",
   "metadata": {},
   "source": [
    "Q1 what is exception in python ? and diffrence between syntax error and exception"
   ]
  },
  {
   "cell_type": "raw",
   "id": "9adced71-e988-4cd3-9e93-9f485cf45768",
   "metadata": {},
   "source": [
    "exception in python programing lang is prevent the curent flow of the program or completing the task it is caused by run time error such as divide by zero, file not found error etc. exception in python can be handled by the for method namely- try,except,else, finally .\n",
    "try:\n",
    "   \n",
    "   exception\n",
    "\n",
    "except Exception as e :\n",
    "    print(e)\n",
    "else:\n",
    "   print('')\n",
    "\n",
    "finally:\n",
    "   print('')\n",
    "   \n",
    "\n",
    "basically the diffrence between the syntax error and exception is that . syantax error occur when using a wrong syantx instead pre difined by the program it crash the program and prevent by the compiler to compile it\n",
    " where as Exception is occur by run time error which can intrupt the flow of program it can caused by for example dividing by zero error , type error,key error ,atrribute error etc\n",
    "  in sum syantax error is the mistake done by programer while exception is abnormal event which prevent the flow of program which can handled and continue to flow"
   ]
  },
  {
   "cell_type": "code",
   "execution_count": null,
   "id": "08dae4bf-4631-41bc-a0b6-21006420d24c",
   "metadata": {},
   "outputs": [],
   "source": [
    "Q3"
   ]
  },
  {
   "cell_type": "markdown",
   "id": "cbb3b621-886d-46e8-9f0d-a40dc8ffaf7b",
   "metadata": {},
   "source": [
    "\n",
    "The try and except block in Python is used to catch and handle exceptions. Python executes code following the try statement as a normal part of the program. The code that follows the except statement is the program's response to any exceptions in the preceding try clause"
   ]
  },
  {
   "cell_type": "code",
   "execution_count": 24,
   "id": "7aaab0bb-b8ce-4ff4-b63b-43a388d4f25a",
   "metadata": {},
   "outputs": [
    {
     "name": "stdout",
     "output_type": "stream",
     "text": [
      "invalid literal for int() with base 10: 'avichal_saxena'\n"
     ]
    }
   ],
   "source": [
    "try:\n",
    "    int('avichal_saxena')\n",
    "except Exception as e:\n",
    "    print(e)"
   ]
  },
  {
   "cell_type": "markdown",
   "id": "d736407d-874c-4eb8-8b4c-7f48b21bc703",
   "metadata": {},
   "source": [
    "Q4"
   ]
  },
  {
   "cell_type": "code",
   "execution_count": 27,
   "id": "550d75bd-082c-47b4-b0ef-0e4ea00e5882",
   "metadata": {},
   "outputs": [
    {
     "name": "stdout",
     "output_type": "stream",
     "text": [
      "No module named 'avichal'\n"
     ]
    }
   ],
   "source": [
    "#try method\n",
    "try :\n",
    "    import avichal\n",
    "except Exception as e:\n",
    "    print(e)"
   ]
  },
  {
   "cell_type": "code",
   "execution_count": 28,
   "id": "48aa9f59-3c5d-4f65-acfc-2df2f8e1ff85",
   "metadata": {},
   "outputs": [
    {
     "name": "stdout",
     "output_type": "stream",
     "text": [
      "No module named 'avichal'\n"
     ]
    }
   ],
   "source": [
    "#except method\n",
    "try :\n",
    "    import avichal\n",
    "except Exception as e:\n",
    "    print(e)\n",
    "else :\n",
    "    print('if try block not handled')"
   ]
  },
  {
   "cell_type": "code",
   "execution_count": 44,
   "id": "09c0c6b5-8e98-4518-a0ba-4461b3493f11",
   "metadata": {},
   "outputs": [
    {
     "name": "stdout",
     "output_type": "stream",
     "text": [
      "No module named 'avichal'\n",
      "this is my finally\"\n"
     ]
    }
   ],
   "source": [
    "#finally method\n",
    "try :\n",
    "    import avichal\n",
    "except Exception as e:\n",
    "    print(e)\n",
    "else :\n",
    "    print('if try block not handled')\n",
    "finally:\n",
    "    print('this is my finally\"')"
   ]
  },
  {
   "cell_type": "code",
   "execution_count": 49,
   "id": "ef494268-8284-421f-8987-04dd3f734d5e",
   "metadata": {},
   "outputs": [
    {
     "name": "stdin",
     "output_type": "stream",
     "text": [
      "enter the price 45\n"
     ]
    }
   ],
   "source": [
    "#raise method\n",
    "price=int(input('enter the price'))"
   ]
  },
  {
   "cell_type": "code",
   "execution_count": 47,
   "id": "a7bacbe9-c7b2-4d30-ba75-f96d6a8e910f",
   "metadata": {},
   "outputs": [],
   "source": [
    "def set_price(price):\n",
    "    if price>1000:\n",
    "        raise  price_details('price of product is too much')\n",
    "    elif price<200:\n",
    "        raise price_details('price of product is to cheap')\n",
    "    else:\n",
    "        print('price is ok')\n",
    "    "
   ]
  },
  {
   "cell_type": "code",
   "execution_count": 48,
   "id": "d84b2f45-87f1-44b1-b66d-77670943fca5",
   "metadata": {},
   "outputs": [
    {
     "name": "stdin",
     "output_type": "stream",
     "text": [
      "enter the price 70\n"
     ]
    },
    {
     "name": "stdout",
     "output_type": "stream",
     "text": [
      "price of product is to cheap\n"
     ]
    }
   ],
   "source": [
    "try:\n",
    "    price=int(input('enter the price'))\n",
    "    set_price(price)\n",
    "except price_details as e :\n",
    "              print(e)"
   ]
  },
  {
   "cell_type": "code",
   "execution_count": 53,
   "id": "363f3300-578f-4734-8e80-cce7a7451357",
   "metadata": {},
   "outputs": [
    {
     "ename": "Exception",
     "evalue": "hey",
     "output_type": "error",
     "traceback": [
      "\u001b[0;31m---------------------------------------------------------------------------\u001b[0m",
      "\u001b[0;31mException\u001b[0m                                 Traceback (most recent call last)",
      "Cell \u001b[0;32mIn[53], line 3\u001b[0m\n\u001b[1;32m      1\u001b[0m a \u001b[38;5;241m=\u001b[39m\u001b[38;5;241m100\u001b[39m\n\u001b[1;32m      2\u001b[0m \u001b[38;5;28;01mif\u001b[39;00m a \u001b[38;5;241m>\u001b[39m\u001b[38;5;241m=\u001b[39m\u001b[38;5;241m40\u001b[39m:\n\u001b[0;32m----> 3\u001b[0m     \u001b[38;5;28;01mraise\u001b[39;00m \u001b[38;5;167;01mException\u001b[39;00m(\u001b[38;5;124m'\u001b[39m\u001b[38;5;124mhey\u001b[39m\u001b[38;5;124m'\u001b[39m)\n\u001b[1;32m      4\u001b[0m \u001b[38;5;28;01melse\u001b[39;00m:\n\u001b[1;32m      5\u001b[0m     \u001b[38;5;28mprint\u001b[39m(\u001b[38;5;124m'\u001b[39m\u001b[38;5;124mnothing\u001b[39m\u001b[38;5;124m'\u001b[39m)\n",
      "\u001b[0;31mException\u001b[0m: hey"
     ]
    }
   ],
   "source": [
    "a =100\n",
    "if a >=40:\n",
    "    raise Exception('hey')\n",
    "else:\n",
    "    print('nothing')"
   ]
  },
  {
   "cell_type": "code",
   "execution_count": null,
   "id": "4bed204f-1405-420d-85cf-0f3c37f31e84",
   "metadata": {},
   "outputs": [],
   "source": [
    "Q5"
   ]
  },
  {
   "cell_type": "markdown",
   "id": "cc494698-19a7-477b-a70e-fc7ac3f834ad",
   "metadata": {},
   "source": [
    "custom exception  is user defined exception which created by the programer for to handle a specific task\n",
    "it allow you to create exception by create the subclassing . if exception is not handled by the custom exception it will terminate the program it is like all other exception such as try,exception,finally,else  \n",
    "it is used because for the specific reason\n",
    " \n",
    " 1Readability and Maintainability more readable and easier to understand the program\n",
    " 2 it also promote the code resusability \n",
    " 3 provide more precise error managment"
   ]
  },
  {
   "cell_type": "code",
   "execution_count": null,
   "id": "4d237122-14c2-4c8d-b9d2-946fb00379ea",
   "metadata": {},
   "outputs": [],
   "source": [
    "Q6\n",
    "price=int(input('enter the price'))"
   ]
  },
  {
   "cell_type": "code",
   "execution_count": null,
   "id": "616f7cf3-798f-4c40-8964-3069b71efd2a",
   "metadata": {},
   "outputs": [],
   "source": [
    "\n",
    "def set_price(price):\n",
    "    if price>1000:\n",
    "        raise  price_details('price of product is too much')\n",
    "    elif price<200:\n",
    "        raise price_details('price of product is to cheap')\n",
    "    else:\n",
    "        print('price is ok')"
   ]
  },
  {
   "cell_type": "code",
   "execution_count": 55,
   "id": "489b47ec-8e67-4506-ae97-a3bb4002f0e4",
   "metadata": {},
   "outputs": [
    {
     "name": "stdin",
     "output_type": "stream",
     "text": [
      "enter the price 89\n"
     ]
    },
    {
     "name": "stdout",
     "output_type": "stream",
     "text": [
      "price of product is to cheap\n"
     ]
    }
   ],
   "source": [
    "try:\n",
    "    price=int(input('enter the price'))\n",
    "    set_price(price)\n",
    "except price_details as e :\n",
    "              print(e)"
   ]
  },
  {
   "cell_type": "markdown",
   "id": "1a05c590-5379-44b8-807a-c32d1906395d",
   "metadata": {},
   "source": [
    "Q2\n",
    "when excerption is not handled it forward to finally method or going to halt state as in the python program i"
   ]
  }
 ],
 "metadata": {
  "kernelspec": {
   "display_name": "Python 3 (ipykernel)",
   "language": "python",
   "name": "python3"
  },
  "language_info": {
   "codemirror_mode": {
    "name": "ipython",
    "version": 3
   },
   "file_extension": ".py",
   "mimetype": "text/x-python",
   "name": "python",
   "nbconvert_exporter": "python",
   "pygments_lexer": "ipython3",
   "version": "3.10.8"
  }
 },
 "nbformat": 4,
 "nbformat_minor": 5
}
